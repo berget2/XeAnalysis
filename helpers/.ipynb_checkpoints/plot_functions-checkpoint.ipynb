{
 "cells": [
  {
   "cell_type": "markdown",
   "metadata": {},
   "source": [
    "# Thanks Again Sander!"
   ]
  },
  {
   "cell_type": "markdown",
   "metadata": {
    "toc": "true"
   },
   "source": [
    "# Table of Contents\n",
    " <p><div class=\"lev1\"><a href=\"#Plot-functions\"><span class=\"toc-item-num\">1 - </span>Plot functions</a></div><div class=\"lev2\"><a href=\"#General-plot-options\"><span class=\"toc-item-num\">1.1 - </span>General plot options</a></div><div class=\"lev2\"><a href=\"#Scatter-plots\"><span class=\"toc-item-num\">1.2 - </span>Scatter plots</a></div><div class=\"lev2\"><a href=\"#Histograms\"><span class=\"toc-item-num\">1.3 - </span>Histograms</a></div><div class=\"lev3\"><a href=\"#Using-a-more-powerful-hist-package\"><span class=\"toc-item-num\">1.3.1 - </span>Using a more powerful hist package</a></div><div class=\"lev2\"><a href=\"#For-plotting-PMT-arrays\"><span class=\"toc-item-num\">1.4 - </span>For plotting PMT arrays</a></div><div class=\"lev2\"><a href=\"#Fit-functions\"><span class=\"toc-item-num\">1.5 - </span>Fit functions</a></div><div class=\"lev3\"><a href=\"#How-to-change-font-in-plots\"><span class=\"toc-item-num\">1.5.1 - </span>How to change font in plots</a></div>"
   ]
  },
  {
   "cell_type": "markdown",
   "metadata": {},
   "source": [
    "# Plot functions\n",
    "\n",
    "[Here we put some plot functions that we use more often]"
   ]
  },
  {
   "cell_type": "markdown",
   "metadata": {},
   "source": [
    "## General plot options\n",
    "\n",
    "Some plot functions that are used by other functions"
   ]
  },
  {
   "cell_type": "code",
   "execution_count": null,
   "metadata": {
    "collapsed": false
   },
   "outputs": [],
   "source": [
    "# Saves plots to notebookname/YYMMDD/...\n",
    "plot_folder = os.path.join(notebook_name, strftime(\"%Y%m%d\"))\n",
    "plot_folder_web = os.path.join( plot_folder, \"web\")"
   ]
  },
  {
   "cell_type": "code",
   "execution_count": null,
   "metadata": {
    "collapsed": true
   },
   "outputs": [],
   "source": [
    "# changes the general size of the plots\n",
    "size_multiplier = 1\n",
    "\n",
    "# function makes folder, pdf, png and web png (small)\n",
    "def save_plot(title):\n",
    "    if not os.path.exists(plot_folder):\n",
    "        os.makedirs(plot_folder)\n",
    "    if not os.path.exists(plot_folder_web):\n",
    "        os.makedirs(plot_folder_web)\n",
    "    if save_pdf_plots:\n",
    "        plt.savefig(os.path.join(plot_folder, title) + '.pdf', format='pdf')\n",
    "    if save_plots:\n",
    "        plt.savefig(os.path.join(plot_folder, title) + '.png', format='png', dpi=100)\n",
    "        plt.savefig(os.path.join(plot_folder_web, title) + '.png', format='png', dpi=50)\n",
    "\n",
    "# function to set the axis\n",
    "def set_axis(xaxis,yaxis,title):\n",
    "    plt.xlabel(xaxis, fontsize = 20)\n",
    "    plt.ylabel(yaxis, fontsize = 20)\n",
    "    plt.title(title, fontsize = 24, y =1.03)\n",
    "    plt.tick_params(axis='both', which='major', labelsize=20)\n",
    "    plt.tick_params(axis='both', which='minor', labelsize=20)"
   ]
  },
  {
   "cell_type": "markdown",
   "metadata": {},
   "source": [
    "## Scatter plots"
   ]
  },
  {
   "cell_type": "code",
   "execution_count": null,
   "metadata": {
    "collapsed": true
   },
   "outputs": [],
   "source": [
    "# actual scatter plotting function that uses set_axis and save_plot\n",
    "def plot_scatter(x,y,xtitle,ytitle,title,xlim=[None,None],ylim=[None,None], colorb = False, \n",
    "                 colorblabel=None, discrete = False, vmax = None, logscale=False, grid = True, *args, **kwargs):\n",
    "    if discrete:\n",
    "        plt.scatter(x,y,vmax = vmax,cmap = plt.get_cmap('jet', vmax), *args, **kwargs)\n",
    "    else:\n",
    "        plt.scatter(x,y,vmax = vmax, *args, **kwargs)\n",
    "    plt.xlim(xlim)\n",
    "    plt.ylim(ylim)\n",
    "    set_axis(xtitle,ytitle,title)\n",
    "    if colorb:\n",
    "        if discrete == True:\n",
    "            tick_bounds = np.linspace(0,vmax,vmax+1)\n",
    "            tickpos = np.linspace(tick_bounds[0] + .5, tick_bounds[-1] - .5, len(tick_bounds)-1)\n",
    "            cax = plt.colorbar(label=colorblabel, ticks=tickpos)\n",
    "            cax.set_ticklabels(tick_bounds)\n",
    "        else:\n",
    "            plt.colorbar(label=colorblabel)\n",
    "    if logscale:\n",
    "        plt.xscale('log')\n",
    "        plt.yscale('log')\n",
    "    save_plot(title)\n",
    "    if grid:\n",
    "        plt.grid()\n",
    "    plt.show()\n",
    " \n"
   ]
  },
  {
   "cell_type": "markdown",
   "metadata": {},
   "source": [
    "## Histograms"
   ]
  },
  {
   "cell_type": "code",
   "execution_count": 1,
   "metadata": {
    "collapsed": true
   },
   "outputs": [],
   "source": [
    "# function for getting bin centers for histograms\n",
    "def bin_centers(bin_edges):\n",
    "    return 0.5*(bin_edges[1:] + bin_edges[:-1])\n",
    "\n",
    "# function for 2D histogram\n",
    "def twod_stat_plot(x, y, z, statistic='mean', bins=10, range=None, vrange=None, cblabel=None):\n",
    "    if vrange is None:\n",
    "        vrange = (None, None)\n",
    "    result, xbinedges, ybinedges, binnumbers = binned_statistic_2d(\n",
    "        x, y, z,\n",
    "        bins=bins,\n",
    "        statistic=statistic,\n",
    "        range=range\n",
    "    )\n",
    "    xx, yy = np.meshgrid(xbinedges, ybinedges)    \n",
    "\n",
    "    Zm = np.ma.masked_where(np.isnan(result),result)\n",
    "    plt.figure(figsize=(size_multiplier*12, size_multiplier*10))\n",
    "    plt.pcolormesh(xx, yy, Zm.T, vmin=vrange[0], vmax=vrange[1])\n",
    "    plt.colorbar(label=cblabel)\n",
    "    \n",
    "# Function to make the colorbar in discrete steps\n",
    "def discrete_matshow(data):\n",
    "    cmap = plt.get_cmap('RdBu', np.max(data)-np.min(data)+1)\n",
    "    mat = plt.matshow(data,cmap=cmap)\n",
    "    ticks = np.arange(np.min(data),np.max(data)+1)\n",
    "    tickpos = np.linspace(ticks[0] + .5, ticks[-1] - .5, len(ticks));\n",
    "    cax = plt.colorbar(mat, ticks=tickpos)\n",
    "    cax.set_ticklabels(ticks)"
   ]
  },
  {
   "cell_type": "markdown",
   "metadata": {},
   "source": [
    "### Using a more powerful hist package \n",
    "\n",
    "This uses Jelle's multihist package"
   ]
  },
  {
   "cell_type": "code",
   "execution_count": null,
   "metadata": {
    "collapsed": true
   },
   "outputs": [],
   "source": [
    "from multihist import *\n",
    "\n",
    "def plot_2dhist(x,y,xtitle,ytitle,title,rangexy = [[None,None],[None,None]], colorb = False, \n",
    "                 colorblabel=None, bins =[100,100],vmin=None, vmax = None, *args, **kwargs):\n",
    "    m2 = Histdd(bins=bins, range=rangexy,*args, **kwargs)\n",
    "    m2.add(x,y)\n",
    "    m2.plot(cblabel = colorblabel, vmin=vmin, vmax=vmax)\n",
    "    set_axis(xtitle,ytitle,title)\n",
    "    save_plot(title)\n",
    "    plt.show()"
   ]
  },
  {
   "cell_type": "code",
   "execution_count": null,
   "metadata": {
    "collapsed": true
   },
   "outputs": [],
   "source": [
    "### code for three plots at the same time:\n",
    "### builds one 2dhist with two 1d histograms on the axis\n",
    "\n",
    "# overwrite fielddata in the analysis notebook\n",
    "\n",
    "# fielddata = {\n",
    "#     'defaultname':                       {'range':(0,999),       'descr':\"default units\"}, \n",
    "#     }\n",
    "\n",
    "def getfieldtitle(key):\n",
    "    for fieldname,fd in fielddata.items():\n",
    "        if not 'descr' in fd: continue\n",
    "        if key==fieldname: return fd['descr']\n",
    "    return key\n",
    "\n",
    "def getsanerange(data, key, m = 5.):\n",
    "    stuff = data[key]\n",
    "    (mi,ma) = (None,None)\n",
    "    #Are there any predefined minima and maxima?\n",
    "    for fn,_ in fielddata.items():\n",
    "        if key==fn:\n",
    "        #if re.match('(.*)%s'%fn,key):   #use settings for blah if key is LhsOM_JdGYGFNblah\n",
    "                if 'range' in fielddata[fn]:\n",
    "                    (mi,ma) = fielddata[fn]['range']\n",
    "                if mi=='All': mi = np.min(stuff)\n",
    "                if ma=='All': ma = np.max(stuff)\n",
    "    #Define minima and maxima to exclude outliers\n",
    "    median = np.median(stuff)\n",
    "    mediandev = np.median(np.abs(stuff - median))\n",
    "    if mi==None: mi = max(np.min(stuff),median-m*mediandev)\n",
    "    if ma==None: ma = min(np.max(stuff),median+m*mediandev)\n",
    "    return (mi,ma)\n",
    "\n",
    "# def make_densityhistogram(data, xkey, ykey, title=\"Very nice plot!\", bins=100, logscale=False): \n",
    "def make_densityhistogram(x, y, xkey, ykey, title=\"Very nice plot!\", bins=100, logscale=False): \n",
    "    data = {xkey : x, ykey : y}\n",
    "    print(\"\\t\" + title) \n",
    "    #Stolen and modified from http://www.astrobetter.com/visualization-fun-with-python-2d-histogram-with-1d-histograms-on-axes/ \n",
    "    xlims  = getsanerange(data, xkey) \n",
    "    ylims  = getsanerange(data, ykey) \n",
    "    x = data[xkey] \n",
    "    y = data[ykey] \n",
    "    xlabel = getfieldtitle(xkey) \n",
    "    ylabel = getfieldtitle(ykey) \n",
    "     \n",
    "    # Define the locations for the axes             #??? \n",
    "    left, width = 0.12, 0.55 \n",
    "    bottom, height = 0.12, 0.55 \n",
    "    bottom_h = left_h = left+width+0.02 \n",
    "      \n",
    "    # Set up the geometry of the three plots \n",
    "    rect_temperature = [left, bottom, width, height] # dimensions of temp plot \n",
    "    rect_histx = [left, bottom_h, width, 0.25] # dimensions of x-histogram \n",
    "    rect_histy = [left_h, bottom, 0.25, height] # dimensions of y-histogram \n",
    "      \n",
    "    # Set up the size of the figure \n",
    "    plt.close() \n",
    "    fig = plt.figure(1, figsize=(9.5,9)) \n",
    "      \n",
    "    # Make the three plots \n",
    "    axTemperature = plt.axes(rect_temperature) # temperature plot \n",
    "    axHistx = plt.axes(rect_histx) # x histogram \n",
    "    axHisty = plt.axes(rect_histy) # y histogram \n",
    "      \n",
    "    # Remove the inner axes numbers of the histograms \n",
    "    from matplotlib.ticker import NullFormatter \n",
    "    nullfmt = NullFormatter() \n",
    "    axHistx.xaxis.set_major_formatter(nullfmt) \n",
    "    axHisty.yaxis.set_major_formatter(nullfmt) \n",
    "      \n",
    "    # Find the min/max of the data \n",
    "    xmin = min(xlims) \n",
    "    xmax = max(xlims) \n",
    "    ymin = min(ylims) \n",
    "    ymax = max(ylims) \n",
    "      \n",
    "    # Make the 'main' temperature plot \n",
    "    # Define the number of bins \n",
    "    nxbins = bins \n",
    "    nybins = bins \n",
    "    nbins = bins \n",
    "      \n",
    "    xbins = np.linspace(start = xmin, stop = xmax, num = nxbins) \n",
    "    ybins = np.linspace(start = ymin, stop = ymax, num = nybins) \n",
    "    xcenter = (xbins[0:-1]+xbins[1:])/2.0 \n",
    "    ycenter = (ybins[0:-1]+ybins[1:])/2.0 \n",
    "    aspectratio = 1.0*(xmax - xmin)/(1.0*ymax - ymin) \n",
    "    #aspectratio = 1.0*(xmax - 0)/(1.0*ymax - 0)    Weird stuff with one large range, one negative range value \n",
    " \n",
    "    H, xedges,yedges = np.histogram2d(y,x,bins=(ybins,xbins)) \n",
    "    X = xcenter \n",
    "    Y = ycenter \n",
    "    Z = H \n",
    "      \n",
    "    # Plot the temperature data \n",
    "    #coudl set cmap=plt.cm.hot... doesn't make stuff clearer though \n",
    "    cax = (axTemperature.imshow(H, extent=[xmin,xmax,ymin,ymax], \n",
    "           interpolation='nearest', origin='lower',aspect=aspectratio)) \n",
    "      \n",
    "    #Plot the axes labels \n",
    "    axTemperature.set_xlabel(xlabel) \n",
    "    axTemperature.set_ylabel(ylabel) \n",
    "      \n",
    "    #Set up the plot limits \n",
    "    axTemperature.set_xlim(xlims) \n",
    "    axTemperature.set_ylim(ylims) \n",
    "      \n",
    "    #Set up the histogram bins \n",
    "    xbins = np.arange(xmin, xmax, (xmax-xmin)/nbins) \n",
    "    ybins = np.arange(ymin, ymax, (ymax-ymin)/nbins) \n",
    "      \n",
    "    #Plot the histograms \n",
    "    axHistx.hist(x, bins=xbins, color='blue', log=logscale) \n",
    "    axHisty.hist(y, bins=ybins, orientation='horizontal', color='red', log=logscale) \n",
    "      \n",
    "    #Set up the histogram limits \n",
    "    axHistx.set_xlim( min(xlims), max(xlims) ) \n",
    "    axHisty.set_ylim( min(ylims), max(ylims) ) \n",
    "     \n",
    "    #Make the tickmarks pretty \n",
    "    ticklabels = axHistx.get_yticklabels() \n",
    "    for label in ticklabels: \n",
    "        label.set_fontsize(6) \n",
    "        #label.set_family('serif') \n",
    "  \n",
    "    #Make the tickmarks pretty \n",
    "    ticklabels = axHisty.get_xticklabels() \n",
    "    for label in ticklabels: \n",
    "        label.set_fontsize(6) \n",
    "        #label.set_family('serif') \n",
    "     \n",
    "    #Done! \n",
    "    plt.suptitle(title) \n",
    "    save_plot(title)"
   ]
  },
  {
   "cell_type": "markdown",
   "metadata": {},
   "source": [
    "## For plotting PMT arrays"
   ]
  },
  {
   "cell_type": "code",
   "execution_count": 1,
   "metadata": {
    "collapsed": true
   },
   "outputs": [],
   "source": [
    "## For PMT arrays\n",
    "def plot_pmts(pmt_range,  s=20, colorbar =True, **kwargs):\n",
    "    plt.scatter([sim.config['pmt_locations'][i]['x'] for i in pmt_range], \n",
    "                [sim.config['pmt_locations'][i]['y'] for i in pmt_range],\n",
    "                 s=s, edgecolors='white', **kwargs)\n",
    "    if colorbar:\n",
    "        plt.colorbar(label = 'Light (phd)')\n",
    "    \n",
    "def plot_top_array_dead():\n",
    "    plot_pmts([ch for ch in sim.config['channels_top'] if ch in dead_pmts and ch != 0],\n",
    "              s=40, c='red', marker = 's', colorbar =False)\n",
    "    \n",
    "def plot_bottom_array_dead():\n",
    "    plot_pmts([ch for ch in sim.config['channels_bottom'] if ch in dead_pmts and ch != 0],\n",
    "              s=40, c='red', marker = 's', colorbar =False)\n",
    "\n",
    "def plot_top_saturated(saturated_channel_numbers):\n",
    "    plot_pmts([ch for ch in saturated_channel_numbers if ch in sim.config['channels_top']],\n",
    "               s = 20, c = 'black', marker = 'D', colorbar =False)\n",
    "    \n",
    "def plot_bottom_saturated(saturated_channel_numbers):\n",
    "    plot_pmts([ch for ch in saturated_channel_numbers if ch in sim.config['channels_bottom']],\n",
    "               s = 20, c = 'black', marker = 'D', colorbar =False)\n",
    "\n",
    "def plot_top_array( **kwargs):\n",
    "    plot_pmts([ch for ch in sim.config['channels_top'] if ch not in dead_pmts],\n",
    "              s=20, c='b' ,marker = 'o', **kwargs)\n",
    "    \n",
    "def plot_bottom_array( **kwargs):\n",
    "    plot_pmts([ch for ch in sim.config['channels_bottom'] if ch not in dead_pmts],\n",
    "              s=20, c='b' ,marker = 'o', **kwargs)\n",
    "\n",
    "def plot_detector_radius():\n",
    "    plt.xlim((-1.1*detector_radius, 1.1*detector_radius))\n",
    "    plt.ylim((-1.1*detector_radius, 1.1*detector_radius))\n",
    "\n",
    "    plt.gca().add_artist(plt.Circle((0,0), \n",
    "                                    detector_radius, \n",
    "                                    edgecolor='black', \n",
    "                                    fill=None))\n",
    "    plt.gca().add_artist(plt.Circle((0,0), \n",
    "                                    fiducial_volume_radius, \n",
    "                                    edgecolor='0.7',\n",
    "                                    fill=None))"
   ]
  },
  {
   "cell_type": "markdown",
   "metadata": {},
   "source": [
    "## Fit functions"
   ]
  },
  {
   "cell_type": "code",
   "execution_count": null,
   "metadata": {
    "collapsed": true
   },
   "outputs": [],
   "source": [
    "def gaussian(x,x_0,sigma,a):\n",
    "    return a*np.exp(-(x-x_0)**2/ (2*((sigma)**2)))\n",
    "\n",
    "def weighted_avg_and_std(values, weights):\n",
    "    \"\"\"\n",
    "    Return the weighted average and standard deviation.\n",
    "\n",
    "    values, weights -- Numpy ndarrays with the same shape.\n",
    "    Stolen from http://stackoverflow.com/questions/2413522\n",
    "    \"\"\"\n",
    "    average = np.average(values, weights=weights)\n",
    "    variance = np.average((values-average)**2, weights=weights)  # Fast and numerically precise\n",
    "    return average, np.sqrt(variance)\n",
    "\n",
    "\n",
    "def fit_gaussian_hist(hist, sigma_percent):\n",
    "    # Use indexing rather than unpacking to support both return value from plt.hist an np.histogram\n",
    "    histogram = hist[0]\n",
    "    bin_edges = hist[1]\n",
    "    bin_centers = 0.5*(bin_edges[1:]+bin_edges[:-1])\n",
    "    mean_g, sigma_g = weighted_avg_and_std(bin_centers, weights=histogram)\n",
    "    a_g = histogram.sum() / np.sqrt(2*np.pi*sigma_g**2)\n",
    "    popt,pcov = curve_fit(f=gaussian,\n",
    "                          xdata=bin_centers,\n",
    "                          ydata=histogram,\n",
    "                          p0=[mean_g,sigma_g,a_g,],\n",
    "                          sigma=np.clip(np.sqrt(histogram), 1, float('inf')))\n",
    "    plt.plot(bin_edges, gaussian(bin_edges, *popt), 'r', label = 'Gaussian fit')\n",
    "    return popt,pcov"
   ]
  },
  {
   "cell_type": "markdown",
   "metadata": {},
   "source": [
    "## Drawing a box in a plot"
   ]
  },
  {
   "cell_type": "code",
   "execution_count": null,
   "metadata": {
    "collapsed": true
   },
   "outputs": [],
   "source": [
    "def draw_box(x, y, **kwargs):\n",
    "    \"\"\"Draw rectangle, given x-y boundary tuples\"\"\"\n",
    "    # Arcane syntax of the week: matplotlib's Rectangle...\n",
    "    plt.gca().add_patch(matplotlib.patches.Rectangle(\n",
    "        (x[0], y[0]), x[1] - x[0], y[1] - y[0], facecolor='none', **kwargs))"
   ]
  },
  {
   "cell_type": "markdown",
   "metadata": {
    "collapsed": true
   },
   "source": [
    "### How to change font in plots\n",
    "\n",
    "Just some instructions on how to change the font of the text in your plots"
   ]
  },
  {
   "cell_type": "code",
   "execution_count": null,
   "metadata": {
    "collapsed": true
   },
   "outputs": [],
   "source": [
    "# 1. Install arial on your system\n",
    "# sudo apt-get install fonts-liberation\n",
    "# sudo apt-get install msttcorefonts\n",
    "# sudo fc-cache -f -v\n",
    "\n",
    "# 2. delete your matplotlib cash in ~/.matplotlib or ~/.cache/matplotlib\n",
    "\n",
    "# 3. In your code import matplotlib and set font to Arial\n",
    "# (import matplotlib.pyplot as plt)\n",
    "\n",
    "# plt.rcParams.update({'font.sans-serif':'Arial'})\n",
    "\n",
    "# To check:\n",
    "# fc-list | grep -i \"Arial\"\n",
    "\n",
    "# Cheers, you now have another font for publishing in papers"
   ]
  },
  {
   "cell_type": "code",
   "execution_count": null,
   "metadata": {
    "collapsed": true
   },
   "outputs": [],
   "source": []
  }
 ],
 "metadata": {
  "hide_input": false,
  "kernelspec": {
   "display_name": "Python 3",
   "language": "python",
   "name": "python3"
  },
  "language_info": {
   "codemirror_mode": {
    "name": "ipython",
    "version": 3
   },
   "file_extension": ".py",
   "mimetype": "text/x-python",
   "name": "python",
   "nbconvert_exporter": "python",
   "pygments_lexer": "ipython3",
   "version": "3.4.4"
  },
  "toc": {
   "toc_cell": true,
   "toc_number_sections": true,
   "toc_threshold": 4,
   "toc_window_display": false
  }
 },
 "nbformat": 4,
 "nbformat_minor": 0
}
